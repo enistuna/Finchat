{
 "cells": [
  {
   "cell_type": "code",
   "execution_count": 7,
   "id": "fcfd42c6",
   "metadata": {},
   "outputs": [],
   "source": [
    "import pandas as pd\n",
    "import numpy as np\n",
    "from pydantic import BaseModel, EmailStr"
   ]
  },
  {
   "cell_type": "code",
   "execution_count": 9,
   "id": "07243365",
   "metadata": {},
   "outputs": [],
   "source": [
    "# EXAMPLE\n",
    "class User(BaseModel):\n",
    "    name: str\n",
    "    email:EmailStr\n",
    "    account_id: int"
   ]
  }
 ],
 "metadata": {
  "kernelspec": {
   "display_name": "Python 3",
   "language": "python",
   "name": "python3"
  },
  "language_info": {
   "codemirror_mode": {
    "name": "ipython",
    "version": 3
   },
   "file_extension": ".py",
   "mimetype": "text/x-python",
   "name": "python",
   "nbconvert_exporter": "python",
   "pygments_lexer": "ipython3",
   "version": "3.13.7"
  }
 },
 "nbformat": 4,
 "nbformat_minor": 5
}
